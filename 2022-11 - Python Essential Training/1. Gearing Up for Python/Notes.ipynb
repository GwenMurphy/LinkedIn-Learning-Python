{
 "cells": [
  {
   "cell_type": "markdown",
   "metadata": {},
   "source": [
    "# Notes\n",
    "\n",
    "The first couple of the videos I think can be safely ignored. As for the second one, it's basically a layman's guide on installing Python, pip, and Jupyter Notebook. I do not really need a how-to guide for those.\n",
    "\n",
    "I'm basically watching it while occasionally eyeing the score of the <em>Uruguay - South Korea</em> game.\n",
    "\n",
    "Video 4's about writing a program. What the hell. Let's do this.\n",
    "\n",
    "Ain't following the example, but showing off instead. Program still works."
   ]
  }
 ],
 "metadata": {
  "kernelspec": {
   "display_name": "Python 3.10.6 64-bit",
   "language": "python",
   "name": "python3"
  },
  "language_info": {
   "name": "python",
   "version": "3.10.6"
  },
  "orig_nbformat": 4,
  "vscode": {
   "interpreter": {
    "hash": "916dbcbb3f70747c44a77c7bcd40155683ae19c65e1c03b4aa3499c5328201f1"
   }
  }
 },
 "nbformat": 4,
 "nbformat_minor": 2
}
