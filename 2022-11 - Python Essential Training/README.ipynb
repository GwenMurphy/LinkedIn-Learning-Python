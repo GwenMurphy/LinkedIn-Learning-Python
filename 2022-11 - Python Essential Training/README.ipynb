{
 "cells": [
  {
   "cell_type": "markdown",
   "metadata": {},
   "source": [
    "## Python Essential Training\n",
    "#### November 24th, 2022\n",
    "\n",
    "In my continuing quest to learn all that I can about Python, I've started this course so I can see if there's anything that I missed while learning from other Python-related courses. The notes will be in a mixture of Jupyter Notebook and Python files, and all of it will be sorted into their respective folders if possible."
   ]
  }
 ],
 "metadata": {
  "language_info": {
   "name": "python"
  },
  "orig_nbformat": 4
 },
 "nbformat": 4,
 "nbformat_minor": 2
}
