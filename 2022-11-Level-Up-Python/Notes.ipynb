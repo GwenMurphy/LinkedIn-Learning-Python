{
 "cells": [
  {
   "cell_type": "markdown",
   "metadata": {},
   "source": [
    "Decided to do this Python course because I plan on increasing my knowledge in the language. The guy mentioned using GitHub codespaces, but this is a GitHub repo for my notes anyway.\n",
    "\n",
    "Can't trust my work laptop to function for more than 5 minutes. If my boss tells me to upgrade my laptop, I'll jump at the chance before he finishes the sentence at sufficient speed there'll be Vulcans making first contact in front of his very eyes 3 hours later."
   ]
  }
 ],
 "metadata": {
  "kernelspec": {
   "display_name": "Python 3.10.6 64-bit",
   "language": "python",
   "name": "python3"
  },
  "language_info": {
   "name": "python",
   "version": "3.10.6"
  },
  "orig_nbformat": 4,
  "vscode": {
   "interpreter": {
    "hash": "916dbcbb3f70747c44a77c7bcd40155683ae19c65e1c03b4aa3499c5328201f1"
   }
  }
 },
 "nbformat": 4,
 "nbformat_minor": 2
}
